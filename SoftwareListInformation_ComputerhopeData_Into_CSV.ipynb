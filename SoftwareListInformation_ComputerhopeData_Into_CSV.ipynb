{
 "cells": [
  {
   "cell_type": "code",
   "execution_count": 1,
   "id": "ec06cd46",
   "metadata": {},
   "outputs": [],
   "source": [
    "#Extracting the table from the website.\n",
    "import requests\n",
    "import pandas as pd\n",
    "\n",
    "url = 'https://www.computerhope.com/asoftwar.htm'\n",
    "html = requests.get(url).content\n",
    "df_list = pd.read_html(html)\n",
    "df = df_list[-1]\n",
    "\n",
    "df.to_csv('ComputerhopeList_software.csv')"
   ]
  },
  {
   "cell_type": "code",
   "execution_count": 2,
   "id": "087085ef",
   "metadata": {},
   "outputs": [],
   "source": []
  }
 ],
 "metadata": {
  "kernelspec": {
   "display_name": "Python 3",
   "language": "python",
   "name": "python3"
  },
  "language_info": {
   "codemirror_mode": {
    "name": "ipython",
    "version": 3
   },
   "file_extension": ".py",
   "mimetype": "text/x-python",
   "name": "python",
   "nbconvert_exporter": "python",
   "pygments_lexer": "ipython3",
   "version": "3.8.8"
  }
 },
 "nbformat": 4,
 "nbformat_minor": 5
}
